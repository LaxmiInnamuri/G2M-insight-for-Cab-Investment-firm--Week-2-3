{
 "cells": [
  {
   "cell_type": "markdown",
   "id": "68f7fe6e",
   "metadata": {},
   "source": [
    "# BUSINESS OBJECTIVE"
   ]
  },
  {
   "cell_type": "markdown",
   "id": "24d681ad",
   "metadata": {},
   "source": [
    "#### XYZ is a private firm in US. Due to remarkable growth in the Cab Industry in last few years and multiple key players in the market, it is planning for an investment in Cab industry and as per their Go-to-Market(G2M) strategy they want to understand the market before taking final decision."
   ]
  },
  {
   "cell_type": "markdown",
   "id": "fb066ea8",
   "metadata": {},
   "source": [
    "#### Time period of data is from 31/01/2016 to 31/12/2018.\n",
    "#### Below are the list of datasets which are provided for the analysis:\n",
    "#### Cab_Data.csv – this file includes details of transaction for 2 cab companies\n",
    "#### Customer_ID.csv – this is a mapping table that contains a unique identifier which links the customer’s demographic details\n",
    "#### Transaction_ID.csv – this is a mapping table that contains transaction to customer mapping and payment mode\n",
    "#### City.csv – this file contains list of US cities, their population and number of cab users"
   ]
  },
  {
   "cell_type": "markdown",
   "id": "2cddf572",
   "metadata": {},
   "source": [
    "## EDA RECOMMENDATIONS AND HYPOTHESIS RESULTS"
   ]
  },
  {
   "cell_type": "markdown",
   "id": "97018004",
   "metadata": {},
   "source": [
    "### According to the analysis, we recommend XYZ company to invest in Yellow Cab."
   ]
  },
  {
   "cell_type": "markdown",
   "id": "25caf42f",
   "metadata": {},
   "source": [
    "#### Following are the key aspects of Analysis"
   ]
  },
  {
   "cell_type": "markdown",
   "id": "447761aa",
   "metadata": {},
   "source": [
    "#### What are the attributes of these customer segments?\n",
    "\n",
    "     Here we have anlayzed the correlation bewtween various attributes(variables) from various segments. Key attributes analyzed are Cost of Trip, Price Charged, Income, Age,KM Travelled,Population, Numbers of Users.\n",
    "     KM Travelled,Cost of Trip, Price Charged are highly correllated with Population & Users\n",
    "     The price charge range for Yellow cab is more than the Pink cab.\n",
    "     There is positive correlation between Price and KM Travelled for both Pink & Yellow Cab"
   ]
  },
  {
   "cell_type": "markdown",
   "id": "ef05959b",
   "metadata": {},
   "source": [
    "#### What's the profit rate of Cab market? Which company has higher profit rate?\n",
    "\n",
    "    Comparitively Yellow Cabs are skewed towards right implying higher total profit rate.\n",
    "    Yellow Cab has higher yearly profit"
   ]
  },
  {
   "cell_type": "markdown",
   "id": "08a19585",
   "metadata": {},
   "source": [
    "#### Does Yellow Cab have bigger market share than Pink Cab?\n",
    "    \n",
    "    Yellow cab market share is three times greater than Pink Cab."
   ]
  },
  {
   "cell_type": "markdown",
   "id": "73b1f55e",
   "metadata": {},
   "source": [
    "#### Do Customers prefer Yellow Cab to Pink Cab?\n",
    "\n",
    "    Customers prefers yellow cabs. The number of users of Yellow Cab is 3 times that of Pink Cab approximately."
   ]
  },
  {
   "cell_type": "markdown",
   "id": "8c810aa8",
   "metadata": {},
   "source": [
    "#### Who serves the higher income?\n",
    "\n",
    "    As per above box plot Pink Cab and Yellow Cab serve similar income.\n",
    "    "
   ]
  },
  {
   "cell_type": "markdown",
   "id": "7a843ab8",
   "metadata": {},
   "source": [
    "#### Which company prevail in which city?\n",
    " \n",
    "    Transaction for Yellow Cab is highest in New York City which has the highest Cab Users of 28%.\n",
    "    Transaction for Pink Cab is highest in Los Angeles City."
   ]
  },
  {
   "cell_type": "markdown",
   "id": "22c71a61",
   "metadata": {},
   "source": [
    "#### Does margin proportionally increase with increase in any variable?\n",
    "\n",
    "    Margin and Price charged are hightly correlated. "
   ]
  },
  {
   "cell_type": "markdown",
   "id": "285e237f",
   "metadata": {},
   "source": [
    "#### Is there any difference in Margins for Customers based on Genders?\n",
    "\n",
    "    Yellow Cab: There is difference in Margin between Male and Female customers\n",
    "    Pink Cab: There is no difference in Margin between Male and Female customers"
   ]
  },
  {
   "cell_type": "markdown",
   "id": "56363fc8",
   "metadata": {},
   "source": [
    "####  Is there diffrence in Margins based on Age Group?\n",
    "     \n",
    "    There are diffrences in Margin based on Age for Yellow Cab"
   ]
  },
  {
   "cell_type": "markdown",
   "id": "ced7a999",
   "metadata": {},
   "source": [
    "####  Is there difference in margins for Card payer and Cash payers?\n",
    "\n",
    "     There is no difference in Margin regarding mode of Payment for both Yellow & Pink Cab"
   ]
  },
  {
   "cell_type": "markdown",
   "id": "0274f9a1",
   "metadata": {},
   "source": [
    "#### Which company has maximum cab users at a particular time period?\n",
    "\n",
    "     Yellow Data has maximum users in 2016, 2017, 2018."
   ]
  },
  {
   "cell_type": "markdown",
   "id": "0fa13c10",
   "metadata": {},
   "source": [
    "# Investment Recommendation\n",
    "\n",
    "As per the parameters Profits Margins, Income, Customer Availabilty, Age wise reach, Market Share YELLOW CAB is recommended.\n"
   ]
  }
 ],
 "metadata": {
  "celltoolbar": "Raw Cell Format",
  "kernelspec": {
   "display_name": "Python 3 (ipykernel)",
   "language": "python",
   "name": "python3"
  },
  "language_info": {
   "codemirror_mode": {
    "name": "ipython",
    "version": 3
   },
   "file_extension": ".py",
   "mimetype": "text/x-python",
   "name": "python",
   "nbconvert_exporter": "python",
   "pygments_lexer": "ipython3",
   "version": "3.9.12"
  }
 },
 "nbformat": 4,
 "nbformat_minor": 5
}
